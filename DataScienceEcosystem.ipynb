{
 "cells": [
  {
   "cell_type": "markdown",
   "id": "09c7e727-eac1-4e70-9930-a0e91596b89f",
   "metadata": {},
   "source": [
    "# Data Science Tools and Ecosystem"
   ]
  },
  {
   "cell_type": "markdown",
   "id": "413c4673-ed19-4112-9297-15d6b17f37a8",
   "metadata": {},
   "source": [
    "In this notebook, Data Science Tools and Ecosystem are summarized."
   ]
  },
  {
   "cell_type": "markdown",
   "id": "60954a49-adec-4e10-9a8e-734ed15e0d6a",
   "metadata": {},
   "source": [
    "# Objectives\n",
    "- python\n",
    "- R language\n",
    "- sql\n",
    "- Jupyter notebook\n",
    "- R studio"
   ]
  },
  {
   "cell_type": "markdown",
   "id": "f3d0eeec-dac4-44f4-b127-d66b809c7c5a",
   "metadata": {},
   "source": [
    "Some of the popular languages that Data Scientists use are:\n",
    "1. Python\n",
    "2. R\n",
    "3. sql\n",
    "4. c++"
   ]
  },
  {
   "cell_type": "markdown",
   "id": "bd65b614-97fb-45fa-b7a0-1e48081bc350",
   "metadata": {},
   "source": [
    "Some of the commonly used libraries used by Data Scientists include:\n",
    "1. Numpy\n",
    "2. Pandas\n",
    "3. matplotlib\n",
    "4. tplyr\n",
    "   \n"
   ]
  },
  {
   "cell_type": "markdown",
   "id": "d45c8240-2939-4784-aac4-75bd19a65a89",
   "metadata": {},
   "source": [
    "| Data Science Tools  | \n",
    "| -------- | \n",
    "| Jupyter notebook  | \n",
    "| R studio | \n",
    "| Spyder   | \n"
   ]
  },
  {
   "cell_type": "markdown",
   "id": "5f9607c6-8c30-4d18-afad-ab2195a09697",
   "metadata": {},
   "source": [
    "### Below are a few examples of evaluating arithmetic \n",
    "# Addition\r\n",
    "result_addition = 5 + 3\r\n",
    "print(\"Addition:\", result_addition)\r\n",
    "\r\n",
    "# Subtraction\r\n",
    "result_subtraction = 8 - 3\r\n",
    "print(\"Subtraction:\", result_subtraction)\r\n",
    "\r\n",
    "# Multiplication\r\n",
    "result_multiplication = 4 * 6\r\n",
    "print(\"Multiplication:\", result_multiplication)\r\n",
    "xpressions in Python\n"
   ]
  },
  {
   "cell_type": "code",
   "execution_count": 14,
   "id": "6d2acb58-4e84-4b45-9c46-073ec489acf9",
   "metadata": {},
   "outputs": [
    {
     "data": {
      "text/plain": [
       "17"
      ]
     },
     "execution_count": 14,
     "metadata": {},
     "output_type": "execute_result"
    }
   ],
   "source": [
    "#This a simple arithmetic expression to mutiply then add integers\n",
    "(3*4)+5"
   ]
  },
  {
   "cell_type": "code",
   "execution_count": 16,
   "id": "21d6a096-8d5f-41e9-959b-b30aed1ac387",
   "metadata": {},
   "outputs": [
    {
     "data": {
      "text/plain": [
       "3.3333333333333335"
      ]
     },
     "execution_count": 16,
     "metadata": {},
     "output_type": "execute_result"
    }
   ],
   "source": [
    "#This will convert 200 minutes to hours by diving by 60\n",
    "200/60"
   ]
  },
  {
   "cell_type": "markdown",
   "id": "bf3a8cb5-2823-4b1a-a64c-94e7c2d80637",
   "metadata": {},
   "source": [
    "## Author\n",
    "Talha Mahmood"
   ]
  },
  {
   "cell_type": "code",
   "execution_count": null,
   "id": "7fd97d66-fbb7-4938-8b16-e75431f376a3",
   "metadata": {},
   "outputs": [],
   "source": []
  }
 ],
 "metadata": {
  "kernelspec": {
   "display_name": "Python 3 (ipykernel)",
   "language": "python",
   "name": "python3"
  },
  "language_info": {
   "codemirror_mode": {
    "name": "ipython",
    "version": 3
   },
   "file_extension": ".py",
   "mimetype": "text/x-python",
   "name": "python",
   "nbconvert_exporter": "python",
   "pygments_lexer": "ipython3",
   "version": "3.11.7"
  }
 },
 "nbformat": 4,
 "nbformat_minor": 5
}
